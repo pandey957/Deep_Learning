{
 "cells": [
  {
   "cell_type": "code",
   "execution_count": 1,
   "metadata": {
    "collapsed": true
   },
   "outputs": [],
   "source": [
    "import numpy as np\n",
    "import matplotlib.pyplot as plt\n",
    "from testCases_v2 import *\n",
    "import sklearn\n",
    "import sklearn.datasets\n",
    "import sklearn.linear_model\n",
    "from planar_utils import plot_decision_boundary, sigmoid, load_planar_dataset, load_extra_datasets\n",
    "\n",
    "%matplotlib inline\n",
    "\n",
    "np.random.seed(1) # set a seed so that the results are consistent"
   ]
  },
  {
   "cell_type": "code",
   "execution_count": 2,
   "metadata": {
    "collapsed": true
   },
   "outputs": [],
   "source": [
    "X, Y = load_planar_dataset()"
   ]
  },
  {
   "cell_type": "code",
   "execution_count": 3,
   "metadata": {
    "collapsed": true
   },
   "outputs": [],
   "source": [
    "def sigmoid(x):\n",
    "    \"\"\"\n",
    "    Calculates sigmoid value of a numpy array.\n",
    "    \n",
    "    Arguments:\n",
    "    x -- An numpy array\n",
    "    \n",
    "    Return:\n",
    "    s -- sigmoid(x)\n",
    "    \"\"\"\n",
    "    \n",
    "    return 1/ ( 1+ np.exp(-x))"
   ]
  },
  {
   "cell_type": "code",
   "execution_count": 18,
   "metadata": {
    "collapsed": false
   },
   "outputs": [],
   "source": [
    "def initialize_parameters(n_x, n_h, n_y):\n",
    "    \"\"\"\n",
    "    Initializes value for W* and B*\n",
    "    \n",
    "    Arguments:\n",
    "    n_x -- Number of feature of Input layer A0\n",
    "    n_h -- Number of feature of hidden layer A1\n",
    "    n_y -- Number of output layer\n",
    "    \n",
    "    Return:\n",
    "    parameters -- A dictionary containing W1, b1, W2, b2\n",
    "    \"\"\"\n",
    "    W1 = np.random.randn(n_h, n_x) * 0.01\n",
    "    b1 = np.zeros((n_h, 1))\n",
    "    W2 = np.random.randn(n_y, n_h) * 0.01\n",
    "    b2 = np.zeros((n_y, 1))\n",
    "    \n",
    "    parameters = { \n",
    "        'W1' : W1,\n",
    "        'b1' : b1,\n",
    "        'W2' : W2, \n",
    "        'b2' : b2\n",
    "                 }\n",
    "    return parameters"
   ]
  },
  {
   "cell_type": "code",
   "execution_count": 40,
   "metadata": {
    "collapsed": true
   },
   "outputs": [],
   "source": [
    "def forward_propagation(X, parameters):\n",
    "    \"\"\"\n",
    "    Calculate Output of Hidden and Output layer\n",
    "    \n",
    "    Arguments:\n",
    "    X -- Input data set\n",
    "    parameters -- A dictionary having W1,b1,W2,b2\n",
    "    \n",
    "    Returns:\n",
    "    cache -- A dictionary containing A1, A2\n",
    "    \"\"\"\n",
    "    \n",
    "    W1 = parameters.get('W1')\n",
    "    b1 = parameters.get('b1')\n",
    "    W2 = parameters.get('W2')\n",
    "    b2 = parameters.get('b2')\n",
    "    \n",
    "    A1 = np.tanh(np.dot(W1, X) + b1)\n",
    "    A2 = sigmoid(np.dot(W2, A1) + b2)\n",
    "    \n",
    "    cache = {\n",
    "        'A1': A1,\n",
    "        'A2': A2\n",
    "    }\n",
    "    return cache"
   ]
  },
  {
   "cell_type": "code",
   "execution_count": 28,
   "metadata": {
    "collapsed": false
   },
   "outputs": [],
   "source": [
    "def compute_cost(A2, Y):\n",
    "    \"\"\"\n",
    "    Computes the residual cost given Predicted value and Input target value.\n",
    "    \n",
    "    Arguments:\n",
    "    cache -- A dictionary containing A1, A2\n",
    "    Y -- Given target variable\n",
    "    \"\"\"\n",
    "    \n",
    "    # Calculating Number of samples\n",
    "    m = Y.shape[0]\n",
    "    \n",
    "    cost = -(np.dot(np.log(A2), Y.T) + np.dot(np.log(1-A2), (1-Y).T)) / m\n",
    "    return cost"
   ]
  },
  {
   "cell_type": "code",
   "execution_count": 38,
   "metadata": {
    "collapsed": false
   },
   "outputs": [],
   "source": [
    "n_x = X.shape[0]\n",
    "n_h = 5\n",
    "n_y = Y.shape[0]\n",
    "parameters = initialize_parameters(n_x, n_h, n_y)\n",
    "cache = forward_propagation(X, parameters)"
   ]
  },
  {
   "cell_type": "code",
   "execution_count": 39,
   "metadata": {
    "collapsed": false
   },
   "outputs": [],
   "source": [
    "def predict(X, parameters):\n",
    "    \"\"\"C\n",
    "    Calculate Predicted output with given parameters\n",
    "    \n",
    "    Arguments:\n",
    "    X -- Given input \n",
    "    parameters -- Dictionary containg parameter of the model\n",
    "    \n",
    "    Returns:\n",
    "    Y_predict -- Predicted variable\n",
    "    \n",
    "    \"\"\"\n",
    "    cache = forward_propagation(X, parameters)\n",
    "    return cache.get('A2')"
   ]
  },
  {
   "cell_type": "code",
   "execution_count": null,
   "metadata": {
    "collapsed": false
   },
   "outputs": [],
   "source": [
    "def back_propagation(A2, Y, parameters):\n",
    "    \"\"\"\n",
    "    Calcuates the gradient of parameters\n",
    "    \n",
    "    Arguments:\n",
    "    parameters -- Dictionary containing parameters W,B\n",
    "    \n",
    "    Returns: \n",
    "    grad -- Dictionary containing gradient of parameters\n",
    "    \"\"\"\n",
    "    \n",
    "    dZ2 = A2-Y\n",
    "    dW2 = np.dot(dZ2, A1.T)/m\n",
    "    db2 = np.sum(dZ2, axis =1 , keepdims = True)\n",
    "    dZ1 = \n",
    "    dW2 = np.dot(dZ1, A0.T)/ m\n",
    "    db1 = np.sum(dZ1, axis = 1, keepdims = True)\n",
    "    "
   ]
  },
  {
   "cell_type": "code",
   "execution_count": null,
   "metadata": {
    "collapsed": true
   },
   "outputs": [],
   "source": []
  }
 ],
 "metadata": {
  "kernelspec": {
   "display_name": "Python 2",
   "language": "python",
   "name": "python2"
  },
  "language_info": {
   "codemirror_mode": {
    "name": "ipython",
    "version": 2
   },
   "file_extension": ".py",
   "mimetype": "text/x-python",
   "name": "python",
   "nbconvert_exporter": "python",
   "pygments_lexer": "ipython2",
   "version": "2.7.12"
  }
 },
 "nbformat": 4,
 "nbformat_minor": 0
}
